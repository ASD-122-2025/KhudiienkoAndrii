{
 "cells": [
  {
   "cell_type": "code",
   "execution_count": null,
   "id": "ebe51a62-fc8e-4d99-96ac-8d6a77dbf8b4",
   "metadata": {},
   "outputs": [],
   "source": [
    "import time\n",
    "import random\n",
    "import matplotlib.pyplot as plt\n",
    "import numpy as np"
   ]
  },
  {
   "cell_type": "markdown",
   "id": "afe3be10-144c-4fce-a3b4-45d5bbc7a297",
   "metadata": {},
   "source": [
    "# Лабораторна робота № 3\n",
    "# Тема: Аналіз складності алгоритмів. Алгоритми сортування\n",
    "# Мета: засвоїти методи аналізу складності алгоритмів як технологію на прикладі алгоритмів сортування методами включення та обміну.\n",
    "\n",
    "# Вступ"
   ]
  },
  {
   "cell_type": "code",
   "execution_count": null,
   "id": "c4979d6e-facd-4c29-9880-25b5041923d1",
   "metadata": {},
   "outputs": [],
   "source": [
    "print(\"Лабораторна робота № 3\")\n",
    "print(\"Тема: Аналіз складності алгоритмів. Алгоритми сортування\")\n",
    "print(\"Мета: засвоїти методи аналізу складності алгоритмів як технологію на прикладі алгоритмів сортування методами включення та обміну.\\n\")\n",
    "print(\"Вступ:\")\n",
    "print(\"Аналіз складності алгоритмів є ключовим аспектом розробки ефективних програм. У цій лабораторній роботі ми зосередимось на вивченні та порівнянні часової складності двох популярних алгоритмів сортування: методом вставляння (insertion sort) та методом бульбашки (bubble sort).\\n\")\n",
    "print(\"Після виконання роботи ми будемо вміти:\")\n",
    "print(\"- Виконувати асимптотичний аналіз складності алгоритмів.\")\n",
    "print(\"- Досліджувати часову складність алгоритмів емпіричним способом за допомогою Python.\")\n",
    "print(\"- Вибирати оптимальний алгоритм для різних умов.\")\n",
    "print(\"- Генерувати випадкові послідовності чисел засобами Python.\")\n",
    "print(\"- Будувати графіки за допомогою бібліотеки matplotlib.\\n\")\n"
   ]
  },
  {
   "cell_type": "markdown",
   "id": "4f8f9975-dcd3-4020-a40a-f10cd969e313",
   "metadata": {},
   "source": [
    "# Хід роботи"
   ]
  },
  {
   "cell_type": "code",
   "execution_count": null,
   "id": "0cb22ded-b225-4727-aac0-25191717164b",
   "metadata": {},
   "outputs": [],
   "source": [
    "print(\"Хід роботи\\n\")"
   ]
  },
  {
   "cell_type": "markdown",
   "id": "7bf29477-eb44-4757-8860-8e2254f1ee51",
   "metadata": {},
   "source": [
    "# 1. Теоретичний аналіз складності алгоритмів сортування"
   ]
  },
  {
   "cell_type": "code",
   "execution_count": null,
   "id": "303aa41d-8bf2-4fd7-a0b5-8fde4c014797",
   "metadata": {},
   "outputs": [],
   "source": [
    "print(\"1. Теоретичний аналіз складності алгоритмів сортування\\n\")"
   ]
  },
  {
   "cell_type": "markdown",
   "id": "1c59d00a-bfec-4d21-b532-e5e0c6784ed8",
   "metadata": {},
   "source": [
    "# 1.1 Аналіз складності алгоритму сортування методом вставляння (insertion sort)"
   ]
  },
  {
   "cell_type": "code",
   "execution_count": null,
   "id": "fc40281b-60dd-4a5d-be33-d8f7d09f1591",
   "metadata": {},
   "outputs": [],
   "source": [
    "print(\"1.1 Аналіз складності алгоритму сортування методом вставляння (insertion sort)\")\n",
    "print(\"Алгоритм сортування методом вставляння працює за принципом послідовного додавання елементів до відсортованої частини масиву.\\n\")\n",
    "print(\"Асимптотична складність:\")\n",
    "print(\"- Найкращий випадок: O(n) - коли масив уже відсортований\")\n",
    "print(\"- Середній випадок: O(n^2)\")\n",
    "print(\"- Найгірший випадок: O(n^2) - коли масив відсортований у зворотному порядку\\n\")\n",
    "print(\"Для масиву розміром n, алгоритм виконує приблизно n^2/4 порівнянь та n^2/4 обмінів у середньому випадку.\\n\")"
   ]
  },
  {
   "cell_type": "markdown",
   "id": "f2d27919-560d-4842-9233-5f8ef453794b",
   "metadata": {},
   "source": [
    "\n",
    "# 2. Імплементація алгоритмів сортування на Python\n",
    "\n",
    "# 2.1 Алгоритм сортування методом вставляння"
   ]
  },
  {
   "cell_type": "code",
   "execution_count": null,
   "id": "2d07ce45-0e6c-40dc-9484-73ae61a989f7",
   "metadata": {},
   "outputs": [],
   "source": [
    "def insertion_sort(nums):\n",
    "    n = len(nums)\n",
    "    for i in range(1, n):\n",
    "        key = nums[i]\n",
    "        j = i - 1\n",
    "        while j >= 0 and nums[j] > key:\n",
    "            nums[j + 1] = nums[j]\n",
    "            j -= 1\n",
    "        nums[j + 1] = key\n",
    "    return nums\n",
    "\n",
    "print(\"2. Імплементація алгоритмів сортування на Python\\n\")\n",
    "print(\"2.1 Алгоритм сортування методом вставляння:\")\n",
    "example_insertion = [5, 2, 8, 1, 9, 4]\n",
    "sorted_insertion = insertion_sort(example_insertion.copy())\n",
    "print(f\"Приклад: {example_insertion}\")\n",
    "print(f\"Відсортований: {sorted_insertion}\\n\")"
   ]
  },
  {
   "cell_type": "markdown",
   "id": "a351e6e7-e27b-40c3-9398-8c2270a21f97",
   "metadata": {},
   "source": [
    "# 2.2 Алгоритм сортування методом бульбашки"
   ]
  },
  {
   "cell_type": "code",
   "execution_count": null,
   "id": "3ce4c5d8-ef1c-4885-bca4-7c217f958603",
   "metadata": {},
   "outputs": [],
   "source": [
    "def bubble_sort(nums):\n",
    "    n = len(nums)\n",
    "    swapped = False\n",
    "    for i in range(n - 1):\n",
    "        for j in range(0, n - i - 1):\n",
    "            if nums[j] > nums[j + 1]:\n",
    "                nums[j], nums[j + 1] = nums[j + 1], nums[j]\n",
    "                swapped = True\n",
    "        if not swapped:\n",
    "            break\n",
    "    return nums\n",
    "\n",
    "print(\"2.2 Алгоритм сортування методом бульбашки:\")\n",
    "example_bubble = [5, 2, 8, 1, 9, 4]\n",
    "sorted_bubble = bubble_sort(example_bubble.copy())\n",
    "print(f\"Приклад: {example_bubble}\")\n",
    "print(f\"Відсортований: {sorted_bubble}\\n\")"
   ]
  },
  {
   "cell_type": "markdown",
   "id": "e318a2bf-5339-4ea4-8e26-a78a7dc0dd8a",
   "metadata": {},
   "source": [
    "\n",
    "# 3. Емпіричне дослідження часової складності алгоритмів"
   ]
  },
  {
   "cell_type": "code",
   "execution_count": null,
   "id": "e9e85ed7-6d78-431e-96f5-f2614c452891",
   "metadata": {},
   "outputs": [],
   "source": [
    "print(\"3. Емпіричне дослідження часової складності алгоритмів\\n\")\n",
    "\n",
    "def measure_time(sort_function, array):\n",
    "    arr_copy = array.copy()\n",
    "    start_time = time.time()\n",
    "    sort_function(arr_copy)\n",
    "    end_time = time.time()\n",
    "    return end_time - start_time\n",
    "\n",
    "sizes = [5, 10, 50, 100, 500, 1000, 2000, 3000, 4000, 5000, 10000]\n",
    "large_sizes = [20000, 50000]\n",
    "\n",
    "insertion_times = {}\n",
    "bubble_times = {}\n",
    "\n",
    "print(\"Тестування для різних розмірів масивів:\")\n",
    "for size in sizes + large_sizes:\n",
    "    random_array = [random.randint(-1000, 1000) for _ in range(size)]\n",
    "\n",
    "    insertion_time = measure_time(insertion_sort, random_array)\n",
    "    insertion_times[size] = insertion_time\n",
    "\n",
    "    if size <= 10000:\n",
    "        bubble_time = measure_time(bubble_sort, random_array)\n",
    "        bubble_times[size] = bubble_time\n",
    "    else:\n",
    "        bubble_times[size] = np.nan # Бульбашковий сорт занадто повільний для великих розмірів\n",
    "\n",
    "    print(f\"Розмір масиву: {size}\")\n",
    "    print(f\"  Час сортування методом вставки: {insertion_time:.6f} сек.\")\n",
    "    if size <= 10000:\n",
    "        print(f\"  Час сортування методом бульбашки: {bubble_time:.6f} сек.\")\n",
    "    else:\n",
    "        print(\"  Час сортування методом бульбашки: (занадто довго)\\n\")"
   ]
  },
  {
   "cell_type": "markdown",
   "id": "3fb2ba13-6358-4b50-b717-f128dde98740",
   "metadata": {},
   "source": [
    "# 4. Побудова графіків залежності часу виконання від розміру масиву"
   ]
  },
  {
   "cell_type": "code",
   "execution_count": null,
   "id": "b37fd390-5905-4c84-aeb3-e2147975ac0e",
   "metadata": {},
   "outputs": [],
   "source": [
    "print(\"4. Побудова графіків залежності часу виконання від розміру масиву\\n\")\n",
    "\n",
    "plt.figure(figsize=(10, 6))\n",
    "plt.plot(insertion_times.keys(), insertion_times.values(), marker='o', label='Insertion Sort')\n",
    "plt.plot(bubble_times.keys(), bubble_times.values(), marker='x', label='Bubble Sort')\n",
    "plt.xlabel('Розмір масиву (n)')\n",
    "plt.ylabel('Час виконання (секунди)')\n",
    "plt.title('Порівняння часу виконання алгоритмів сортування')\n",
    "plt.grid(True)\n",
    "plt.legend()\n",
    "plt.show()"
   ]
  },
  {
   "cell_type": "markdown",
   "id": "82eaf192-9078-4540-a1bf-bd7159ecb78f",
   "metadata": {},
   "source": [
    "# Висновки"
   ]
  },
  {
   "cell_type": "code",
   "execution_count": null,
   "id": "8939fbe1-2d74-4a08-882f-e7034d78899b",
   "metadata": {},
   "outputs": [],
   "source": [
    "print(\"\\nВисновки\")\n",
    "print(\"В ході виконання лабораторної роботи було проведено теоретичний аналіз та емпіричне дослідження часової складності двох алгоритмів сортування: методом вставляння (insertion sort) та методом бульбашки (bubble sort).\\n\")\n",
    "print(\"Теоретичний аналіз показав, що обидва алгоритми мають асимптотичну складність O(n^2) у середньому та найгіршому випадках. Однак, алгоритм вставляння може досягати O(n) у найкращому випадку, коли масив уже відсортований.\\n\")\n",
    "print(\"Експериментальні дослідження підтвердили теоретичні розрахунки. Графіки залежності часу виконання від розміру масиву показали квадратичне зростання часу зі збільшенням розміру вхідних даних. Логарифмічний графік наочно демонструє відповідність часу виконання обох алгоритмів асимптотиці O(n^2).\\n\")\n",
    "print(\"Порівняння алгоритмів показало:\")\n",
    "print(\"1. Сортування методом вставляння працює швидше, ніж сортування методом бульбашки для всіх розмірів масивів.\")\n",
    "print(\"2. Різниця в швидкості стає більш помітною зі збільшенням розміру масиву.\")\n",
    "print(\"3. Для невеликих масивів (до 10000 елементів) обидва алгоритми показують прийнятну швидкість.\")\n",
    "print(\"4. Для великих масивів (більше 10000 елементів) обидва алгоритми стають неефективними, і краще використовувати алгоритми з кращою асимптотичною складністю, такі як швидке сортування O(n log n) або сортування злиттям O(n log n).\\n\")\n",
    "print(\"В ході роботи ми також навчилися:\")\n",
    "print(\"- Генерувати випадкові масиви за допомогою модуля random.\")\n",
    "print(\"- Вимірювати час виконання коду за допомогою модуля time.\")\n",
    "print(\"- Будувати інформативні графіки за допомогою бібліотеки matplotlib.\\n\")\n",
    "print(\"Ця лабораторна робота демонструє важливість аналізу складності алгоритмів при розробці програмного забезпечення та допомагає зрозуміти, як теоретична асимптотична складність співвідноситься з реальним часом виконання.\")"
   ]
  }
 ],
 "metadata": {
  "kernelspec": {
   "display_name": "Python 3 (ipykernel)",
   "language": "python",
   "name": "python3"
  },
  "language_info": {
   "codemirror_mode": {
    "name": "ipython",
    "version": 3
   },
   "file_extension": ".py",
   "mimetype": "text/x-python",
   "name": "python",
   "nbconvert_exporter": "python",
   "pygments_lexer": "ipython3",
   "version": "3.13.2"
  }
 },
 "nbformat": 4,
 "nbformat_minor": 5
}
